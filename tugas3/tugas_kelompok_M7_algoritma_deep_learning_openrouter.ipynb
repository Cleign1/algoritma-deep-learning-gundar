{
 "cells": [
  {
   "cell_type": "markdown",
   "metadata": {},
   "source": [
    "# Tugas 1 Kelompok 1 Algoritma Deep Learning\n",
    "\n",
    "4IA15\n",
    "Anggota Kelompok:\n",
    "1. A IAS Falah Surya Gemilang - 50421001\n",
    "2. Aldo Rizky Ramadhan - 50421106\n",
    "3. Faiz Rizki Azmi - 50421454\n",
    "4. Muhamad Ibnu Khaidar Hafiz - 50421867\n",
    "5. Siti Asma Tomu - 51421427\n",
    "## Source Code yang asli bisa di cek di Github berikut:\n",
    "[https://github.com/Cleign1/algoritma-deep-learning-gundar](https://github.com/Cleign1/algoritma-deep-learning-gundar)"
   ]
  },
  {
   "cell_type": "markdown",
   "metadata": {},
   "source": [
    "## Membuat AI Agent Sederhana dari Langchain, NVIDIA NeMo Megatron, Huggingface Transformers\n",
    "\n",
    "### Berikut dibawah ini menggunakan Huggingface Transformer"
   ]
  },
  {
   "cell_type": "code",
   "execution_count": 2,
   "metadata": {
    "colab": {
     "base_uri": "https://localhost:8080/"
    },
    "id": "alNluCaAx7hd",
    "outputId": "860acdc4-98a0-452d-8c79-4168cb41ad67"
   },
   "outputs": [
    {
     "name": "stdout",
     "output_type": "stream",
     "text": [
      "Requirement already satisfied: openai in /usr/local/lib/python3.10/dist-packages (1.52.2)\n",
      "Requirement already satisfied: anyio<5,>=3.5.0 in /usr/local/lib/python3.10/dist-packages (from openai) (3.7.1)\n",
      "Requirement already satisfied: distro<2,>=1.7.0 in /usr/local/lib/python3.10/dist-packages (from openai) (1.9.0)\n",
      "Requirement already satisfied: httpx<1,>=0.23.0 in /usr/local/lib/python3.10/dist-packages (from openai) (0.27.2)\n",
      "Requirement already satisfied: jiter<1,>=0.4.0 in /usr/local/lib/python3.10/dist-packages (from openai) (0.6.1)\n",
      "Requirement already satisfied: pydantic<3,>=1.9.0 in /usr/local/lib/python3.10/dist-packages (from openai) (2.9.2)\n",
      "Requirement already satisfied: sniffio in /usr/local/lib/python3.10/dist-packages (from openai) (1.3.1)\n",
      "Requirement already satisfied: tqdm>4 in /usr/local/lib/python3.10/dist-packages (from openai) (4.66.6)\n",
      "Requirement already satisfied: typing-extensions<5,>=4.11 in /usr/local/lib/python3.10/dist-packages (from openai) (4.12.2)\n",
      "Requirement already satisfied: idna>=2.8 in /usr/local/lib/python3.10/dist-packages (from anyio<5,>=3.5.0->openai) (3.10)\n",
      "Requirement already satisfied: exceptiongroup in /usr/local/lib/python3.10/dist-packages (from anyio<5,>=3.5.0->openai) (1.2.2)\n",
      "Requirement already satisfied: certifi in /usr/local/lib/python3.10/dist-packages (from httpx<1,>=0.23.0->openai) (2024.8.30)\n",
      "Requirement already satisfied: httpcore==1.* in /usr/local/lib/python3.10/dist-packages (from httpx<1,>=0.23.0->openai) (1.0.6)\n",
      "Requirement already satisfied: h11<0.15,>=0.13 in /usr/local/lib/python3.10/dist-packages (from httpcore==1.*->httpx<1,>=0.23.0->openai) (0.14.0)\n",
      "Requirement already satisfied: annotated-types>=0.6.0 in /usr/local/lib/python3.10/dist-packages (from pydantic<3,>=1.9.0->openai) (0.7.0)\n",
      "Requirement already satisfied: pydantic-core==2.23.4 in /usr/local/lib/python3.10/dist-packages (from pydantic<3,>=1.9.0->openai) (2.23.4)\n"
     ]
    }
   ],
   "source": [
    "!pip install openai"
   ]
  },
  {
   "cell_type": "code",
   "execution_count": 22,
   "metadata": {
    "id": "hPUop0RkyGHX"
   },
   "outputs": [],
   "source": [
    "from openai import OpenAI\n",
    "from google.colab import userdata\n",
    "\n",
    "def send_message(message, temperature=1.0, top_p=1.0, max_tokens=150, frequency_penalty=0.0):\n",
    "    # Initialize the client with the API key\n",
    "    client = OpenAI(\n",
    "        base_url=\"https://openrouter.ai/api/v1\",\n",
    "        api_key=userdata.get('OPENROUTER_API_KEY'),\n",
    "    )\n",
    "\n",
    "    # Send the request with the specified parameters\n",
    "    completion = client.chat.completions.create(\n",
    "        model=\"openai/gpt-3.5-turbo\",\n",
    "        messages=[{\"role\": \"user\", \"content\": message}],\n",
    "        temperature=temperature,\n",
    "        top_p=top_p,\n",
    "        frequency_penalty=frequency_penalty,\n",
    "        max_tokens=max_tokens,\n",
    "    )\n",
    "\n",
    "    # Extract and return the assistant's reply\n",
    "    reply = completion.choices[0].message.content\n",
    "    return reply"
   ]
  },
  {
   "cell_type": "code",
   "execution_count": 19,
   "metadata": {
    "colab": {
     "base_uri": "https://localhost:8080/"
    },
    "id": "p4nA8G-Hy35U",
    "outputId": "cbd2062c-631f-4249-fa12-30515cfbb948"
   },
   "outputs": [
    {
     "name": "stdout",
     "output_type": "stream",
     "text": [
      "The capital of Indonesia is Jakarta.\n"
     ]
    }
   ],
   "source": [
    "response = send_message(\"What is the capital of Indonesia?\")\n",
    "print(response)"
   ]
  },
  {
   "cell_type": "code",
   "execution_count": 24,
   "metadata": {
    "colab": {
     "base_uri": "https://localhost:8080/"
    },
    "id": "_XptbSjj2OTK",
    "outputId": "08ec9c0c-210f-4eef-ecda-e9b5441f32e1"
   },
   "outputs": [
    {
     "name": "stdout",
     "output_type": "stream",
     "text": [
      "1. Inferno Reloaded\n",
      "2. Rampage of Reckoning\n",
      "3. Assassin's Vengeance \n",
      "4. Chaos Unleashed\n",
      "5. Warrior's Carnival\n"
     ]
    }
   ],
   "source": [
    "response = send_message(\"Generate me 5 Action movie title\",\n",
    "                        temperature=1.8,\n",
    "                        frequency_penalty=1.8)\n",
    "print(response)"
   ]
  }
 ],
 "metadata": {
  "colab": {
   "authorship_tag": "ABX9TyMkKyvf6wyGUhBhtA2Cymrf",
   "provenance": []
  },
  "kernelspec": {
   "display_name": "Python 3",
   "name": "python3"
  },
  "language_info": {
   "name": "python"
  }
 },
 "nbformat": 4,
 "nbformat_minor": 0
}
