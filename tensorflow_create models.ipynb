{
 "cells": [
  {
   "cell_type": "code",
   "execution_count": 1,
   "id": "8f076c12c90d22ca",
   "metadata": {
    "ExecuteTime": {
     "end_time": "2024-10-20T08:28:15.865168Z",
     "start_time": "2024-10-20T08:28:14.307059Z"
    }
   },
   "outputs": [
    {
     "name": "stderr",
     "output_type": "stream",
     "text": [
      "2024-10-20 08:45:08.768378: I tensorflow/core/util/port.cc:153] oneDNN custom operations are on. You may see slightly different numerical results due to floating-point round-off errors from different computation orders. To turn them off, set the environment variable `TF_ENABLE_ONEDNN_OPTS=0`.\n",
      "2024-10-20 08:45:08.781555: E external/local_xla/xla/stream_executor/cuda/cuda_fft.cc:485] Unable to register cuFFT factory: Attempting to register factory for plugin cuFFT when one has already been registered\n",
      "2024-10-20 08:45:08.797738: E external/local_xla/xla/stream_executor/cuda/cuda_dnn.cc:8454] Unable to register cuDNN factory: Attempting to register factory for plugin cuDNN when one has already been registered\n",
      "2024-10-20 08:45:08.802613: E external/local_xla/xla/stream_executor/cuda/cuda_blas.cc:1452] Unable to register cuBLAS factory: Attempting to register factory for plugin cuBLAS when one has already been registered\n",
      "2024-10-20 08:45:08.814182: I tensorflow/core/platform/cpu_feature_guard.cc:210] This TensorFlow binary is optimized to use available CPU instructions in performance-critical operations.\n",
      "To enable the following instructions: AVX2 AVX512F AVX512_VNNI FMA, in other operations, rebuild TensorFlow with the appropriate compiler flags.\n"
     ]
    }
   ],
   "source": [
    "import tensorflow as tf"
   ]
  },
  {
   "cell_type": "code",
   "execution_count": 2,
   "id": "153a4e720bec045b",
   "metadata": {
    "ExecuteTime": {
     "end_time": "2024-10-20T08:30:30.614584Z",
     "start_time": "2024-10-20T08:30:30.602206Z"
    }
   },
   "outputs": [
    {
     "data": {
      "text/plain": [
       "'2.17.0'"
      ]
     },
     "execution_count": 2,
     "metadata": {},
     "output_type": "execute_result"
    }
   ],
   "source": [
    "tf.__version__"
   ]
  },
  {
   "cell_type": "code",
   "execution_count": 3,
   "id": "b7754d49825807bf",
   "metadata": {
    "ExecuteTime": {
     "end_time": "2024-10-20T08:32:08.583726Z",
     "start_time": "2024-10-20T08:32:08.579822Z"
    }
   },
   "outputs": [
    {
     "data": {
      "text/plain": [
       "[PhysicalDevice(name='/physical_device:CPU:0', device_type='CPU')]"
      ]
     },
     "execution_count": 3,
     "metadata": {},
     "output_type": "execute_result"
    }
   ],
   "source": [
    "tf.config.list_physical_devices()"
   ]
  },
  {
   "cell_type": "code",
   "execution_count": 4,
   "id": "2e7831b052147eb1",
   "metadata": {
    "ExecuteTime": {
     "end_time": "2024-10-20T08:32:33.269966Z",
     "start_time": "2024-10-20T08:32:30.761075Z"
    }
   },
   "outputs": [],
   "source": [
    "# install gdown\n",
    "# !pip install gdown"
   ]
  },
  {
   "cell_type": "code",
   "execution_count": 5,
   "id": "e0989388a060e41f",
   "metadata": {
    "ExecuteTime": {
     "end_time": "2024-10-20T08:39:49.910627Z",
     "start_time": "2024-10-20T08:39:35.967982Z"
    }
   },
   "outputs": [
    {
     "name": "stderr",
     "output_type": "stream",
     "text": [
      "Downloading...\n",
      "From (original): https://drive.google.com/uc?id=1p8Flgeg-pd1pNdc4-KMO3vKlT8XLc1wt\n",
      "From (redirected): https://drive.google.com/uc?id=1p8Flgeg-pd1pNdc4-KMO3vKlT8XLc1wt&confirm=t&uuid=9d5504b1-79e1-4505-afad-28b581226124\n",
      "To: /home/ibnuk/algoritma-deep-learning-gundar/dataset.zip\n",
      "100%|██████████| 455M/455M [00:02<00:00, 198MB/s] \n"
     ]
    },
    {
     "data": {
      "text/plain": [
       "'dataset.zip'"
      ]
     },
     "execution_count": 5,
     "metadata": {},
     "output_type": "execute_result"
    }
   ],
   "source": [
    "# download dataset file with gdown\n",
    "import gdown\n",
    "url = \"https://drive.google.com/uc?id=1p8Flgeg-pd1pNdc4-KMO3vKlT8XLc1wt\"\n",
    "output = \"dataset.zip\"\n",
    "gdown.download(url=url, output=output)"
   ]
  },
  {
   "cell_type": "code",
   "execution_count": 7,
   "id": "da1c855c1b4708c3",
   "metadata": {},
   "outputs": [],
   "source": [
    "# unzip dataset file\n",
    "import zipfile\n",
    "with zipfile.ZipFile(output, 'r') as zip_ref:\n",
    "    zip_ref.extractall(\"dataset\")"
   ]
  },
  {
   "cell_type": "code",
   "execution_count": null,
   "id": "54e823b2",
   "metadata": {},
   "outputs": [],
   "source": []
  }
 ],
 "metadata": {
  "kernelspec": {
   "display_name": "venv",
   "language": "python",
   "name": "python3"
  },
  "language_info": {
   "codemirror_mode": {
    "name": "ipython",
    "version": 3
   },
   "file_extension": ".py",
   "mimetype": "text/x-python",
   "name": "python",
   "nbconvert_exporter": "python",
   "pygments_lexer": "ipython3",
   "version": "3.9.2"
  }
 },
 "nbformat": 4,
 "nbformat_minor": 5
}
