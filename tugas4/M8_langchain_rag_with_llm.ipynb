{
  "cells": [
    {
      "cell_type": "markdown",
      "metadata": {
        "id": "DUbNg9w9lcb3"
      },
      "source": [
        "# Creating a RAG model with Langchain and Huggingface"
      ]
    },
    {
      "cell_type": "markdown",
      "metadata": {
        "id": "Qgrmyv7alcb5"
      },
      "source": [
        "Kelompok 1 Algoritma Deep Learning\n",
        "Anggota Kelompok :\n",
        "1. A IAS Falah Surya Gemilang\n",
        "2. Aldo Rizky Ramadhan\n",
        "3. Faiz Rizki Azmi\n",
        "4. Muhamad Ibnu Khaidar Hafiz\n",
        "5. Siti Asma Tomu"
      ]
    },
    {
      "cell_type": "code",
      "execution_count": 1,
      "metadata": {
        "ExecuteTime": {
          "end_time": "2024-11-17T13:50:32.396410Z",
          "start_time": "2024-11-17T13:50:13.668397Z"
        },
        "id": "U-9-KfkMlcb5"
      },
      "outputs": [],
      "source": [
        "## installs\n",
        "%pip install -qU langchain-nvidia-ai-endpoints"
      ]
    },
    {
      "cell_type": "code",
      "execution_count": 2,
      "metadata": {
        "ExecuteTime": {
          "end_time": "2024-11-17T14:08:21.436214Z",
          "start_time": "2024-11-17T14:08:09.935425Z"
        },
        "id": "UrQuDqAMlcb6"
      },
      "outputs": [],
      "source": [
        "from google.colab import userdata\n",
        "import os\n",
        "\n",
        "os.environ[\"NVIDIA_API_KEY\"] = userdata.get('NVIDIA_TOKEN')\n",
        "\n",
        "from langchain_nvidia_ai_endpoints import ChatNVIDIA\n",
        "\n",
        "llm = ChatNVIDIA(model=\"meta/llama3-70b-instruct\")"
      ]
    },
    {
      "cell_type": "code",
      "source": [
        "%pip install -q langchain_community\n",
        "%pip install -q langchain_chroma\n",
        "%pip install -q langchain"
      ],
      "metadata": {
        "id": "lALY7LYOmDaJ"
      },
      "execution_count": 3,
      "outputs": []
    },
    {
      "cell_type": "code",
      "execution_count": 19,
      "metadata": {
        "ExecuteTime": {
          "end_time": "2024-11-17T14:09:15.741822Z",
          "start_time": "2024-11-17T14:09:15.737488Z"
        },
        "id": "azyiDqn4lcb7",
        "outputId": "e07bf9ff-d970-4013-e8fc-cfd859ef5540",
        "colab": {
          "base_uri": "https://localhost:8080/",
          "height": 90
        }
      },
      "outputs": [
        {
          "output_type": "stream",
          "name": "stderr",
          "text": [
            "/usr/local/lib/python3.10/dist-packages/langsmith/client.py:241: LangSmithMissingAPIKeyWarning: API key must be provided when using hosted LangSmith API\n",
            "  warnings.warn(\n"
          ]
        },
        {
          "output_type": "execute_result",
          "data": {
            "text/plain": [
              "'Based on the provided context, three common choices for ANN Algorithm for fast MIPS are not explicitly mentioned. However, Fig. 9 mentions a comparison of MIPS algorithms, and the website ann-benchmarks.com provides more information on MIPS algorithms and their performance comparison.'"
            ],
            "application/vnd.google.colaboratory.intrinsic+json": {
              "type": "string"
            }
          },
          "metadata": {},
          "execution_count": 19
        }
      ],
      "source": [
        "import bs4\n",
        "from langchain import hub\n",
        "from langchain_chroma import Chroma\n",
        "from langchain_community.document_loaders import WebBaseLoader\n",
        "from langchain_core.output_parsers import StrOutputParser\n",
        "from langchain_core.runnables import RunnablePassthrough\n",
        "from langchain_nvidia import NVIDIAEmbeddings\n",
        "from langchain_text_splitters import RecursiveCharacterTextSplitter\n",
        "\n",
        "# Load, chunk and index the contents of the blog.\n",
        "loader = WebBaseLoader(\n",
        "    web_paths=(\"https://lilianweng.github.io/posts/2023-06-23-agent/\",),\n",
        "    bs_kwargs=dict(\n",
        "        parse_only=bs4.SoupStrainer(\n",
        "            class_=(\"post-content\", \"post-title\", \"post-header\")\n",
        "        )\n",
        "    ),\n",
        ")\n",
        "docs = loader.load()\n",
        "\n",
        "text_splitter = RecursiveCharacterTextSplitter(chunk_size=1000, chunk_overlap=200)\n",
        "splits = text_splitter.split_documents(docs)\n",
        "vectorstore = Chroma.from_documents(documents=splits, embedding=NVIDIAEmbeddings())\n",
        "\n",
        "# Retrieve and generate using the relevant snippets of the blog.\n",
        "retriever = vectorstore.as_retriever()\n",
        "prompt = hub.pull(\"rlm/rag-prompt\")\n",
        "\n",
        "\n",
        "def format_docs(docs):\n",
        "    return \"\\n\\n\".join(doc.page_content for doc in docs)\n",
        "\n",
        "\n",
        "rag_chain = (\n",
        "    {\"context\": retriever | format_docs, \"question\": RunnablePassthrough()}\n",
        "    | prompt\n",
        "    | llm\n",
        "    | StrOutputParser()\n",
        ")\n",
        "\n",
        "rag_chain.invoke(\"What is 3 common choices for ANN Algorithm for fast MIPS?\")\n",
        "# rag_chain.invoke(\"What is Task Decomposition?\")"
      ]
    },
    {
      "cell_type": "code",
      "source": [
        "# cleanup\n",
        "vectorstore.delete_collection()"
      ],
      "metadata": {
        "id": "kQ_ucbURp7Rl"
      },
      "execution_count": 18,
      "outputs": []
    }
  ],
  "metadata": {
    "kernelspec": {
      "display_name": "venv",
      "language": "python",
      "name": "python3"
    },
    "language_info": {
      "codemirror_mode": {
        "name": "ipython",
        "version": 3
      },
      "file_extension": ".py",
      "mimetype": "text/x-python",
      "name": "python",
      "nbconvert_exporter": "python",
      "pygments_lexer": "ipython3",
      "version": "3.11.8"
    },
    "colab": {
      "provenance": []
    }
  },
  "nbformat": 4,
  "nbformat_minor": 0
}